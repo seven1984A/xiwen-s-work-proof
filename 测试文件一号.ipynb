{
 "cells": [
  {
   "cell_type": "code",
   "execution_count": null,
   "id": "9f4de963-1738-47a7-bb8f-1ad4e45ee7a9",
   "metadata": {},
   "outputs": [],
   "source": [
    "进行测试。2023/2/5 2：56"
   ]
  }
 ],
 "metadata": {
  "kernelspec": {
   "display_name": "",
   "name": ""
  },
  "language_info": {
   "name": ""
  }
 },
 "nbformat": 4,
 "nbformat_minor": 5
}
