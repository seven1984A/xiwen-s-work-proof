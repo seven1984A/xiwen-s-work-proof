{
 "cells": [
  {
   "cell_type": "code",
   "execution_count": null,
   "id": "0dedc33a-d7d5-4b22-8ffd-400fea2f8eaa",
   "metadata": {},
   "outputs": [],
   "source": [
    "二次云端同步测试，启动\n",
    "原因：出现无法理解checkpoints"
   ]
  }
 ],
 "metadata": {
  "kernelspec": {
   "display_name": "Python 3 (ipykernel)",
   "language": "python",
   "name": "python3"
  },
  "language_info": {
   "codemirror_mode": {
    "name": "ipython",
    "version": 3
   },
   "file_extension": ".py",
   "mimetype": "text/x-python",
   "name": "python",
   "nbconvert_exporter": "python",
   "pygments_lexer": "ipython3",
   "version": "3.9.13"
  }
 },
 "nbformat": 4,
 "nbformat_minor": 5
}
