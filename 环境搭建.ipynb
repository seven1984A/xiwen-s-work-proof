{
 "cells": [
  {
   "cell_type": "code",
   "execution_count": null,
   "id": "9a0b539a-d710-45c9-84ea-2926cbb987d0",
   "metadata": {},
   "outputs": [],
   "source": [
    "anaconda的安装（python安装、数据库、插件）\n",
    "github与github_desktop的注册安装（版本控制、远程协作）\n",
    "jupyter_lab的搭建（python运行，学习证明，工作证明）\n"
   ]
  }
 ],
 "metadata": {
  "kernelspec": {
   "display_name": "Python 3 (ipykernel)",
   "language": "python",
   "name": "python3"
  },
  "language_info": {
   "codemirror_mode": {
    "name": "ipython",
    "version": 3
   },
   "file_extension": ".py",
   "mimetype": "text/x-python",
   "name": "python",
   "nbconvert_exporter": "python",
   "pygments_lexer": "ipython3",
   "version": "3.9.13"
  }
 },
 "nbformat": 4,
 "nbformat_minor": 5
}
